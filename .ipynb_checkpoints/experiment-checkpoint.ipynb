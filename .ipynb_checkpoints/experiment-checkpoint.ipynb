{
 "cells": [
  {
   "cell_type": "markdown",
   "id": "d815dea7",
   "metadata": {},
   "source": [
    "The goal is to correctly predict if someone survived the Titanic shipwreck"
   ]
  },
  {
   "cell_type": "code",
   "execution_count": 1,
   "id": "3980b312",
   "metadata": {},
   "outputs": [
    {
     "data": {
      "text/plain": [
       "Index(['PassengerId', 'Survived', 'Pclass', 'Name', 'Sex', 'Age', 'SibSp',\n",
       "       'Parch', 'Ticket', 'Fare', 'Cabin', 'Embarked', 'train_test'],\n",
       "      dtype='object')"
      ]
     },
     "execution_count": 1,
     "metadata": {},
     "output_type": "execute_result"
    }
   ],
   "source": [
    "import numpy as np \n",
    "import pandas as pd \n",
    "import seaborn as sns \n",
    "import matplotlib.pyplot as plt\n",
    "\n",
    "training = pd.read_csv('train.csv')\n",
    "test = pd.read_csv('test.csv')\n",
    "\n",
    "training['train_test'] = 1\n",
    "test['train_test'] = 0\n",
    "test['Survived'] = np.NaN\n",
    "all_data = pd.concat([training,test])\n",
    "\n",
    "%matplotlib inline\n",
    "# Let's see the columns\n",
    "all_data.columns"
   ]
  },
  {
   "cell_type": "markdown",
   "id": "3a4bf98c",
   "metadata": {},
   "source": [
    "## Light Data Exploration\n",
    "\n",
    "1) For numeric data\n",
    "\n",
    "* Make histograms to understand distributions\n",
    "* Corrplot\n",
    "* Pivot table comparing survival rate across numeric variables\n",
    "\n",
    "2) For Categorical Data\n",
    "* Make bar charts to understand balance of classes\n",
    "* Make pivot tables to understand relationship with survival"
   ]
  },
  {
   "cell_type": "code",
   "execution_count": 9,
   "id": "8526742c",
   "metadata": {},
   "outputs": [
    {
     "name": "stdout",
     "output_type": "stream",
     "text": [
      "<class 'pandas.core.frame.DataFrame'>\n",
      "RangeIndex: 891 entries, 0 to 890\n",
      "Data columns (total 13 columns):\n",
      " #   Column       Non-Null Count  Dtype  \n",
      "---  ------       --------------  -----  \n",
      " 0   PassengerId  891 non-null    int64  \n",
      " 1   Survived     891 non-null    int64  \n",
      " 2   Pclass       891 non-null    int64  \n",
      " 3   Name         891 non-null    object \n",
      " 4   Sex          891 non-null    object \n",
      " 5   Age          714 non-null    float64\n",
      " 6   SibSp        891 non-null    int64  \n",
      " 7   Parch        891 non-null    int64  \n",
      " 8   Ticket       891 non-null    object \n",
      " 9   Fare         891 non-null    float64\n",
      " 10  Cabin        204 non-null    object \n",
      " 11  Embarked     889 non-null    object \n",
      " 12  train_test   891 non-null    int64  \n",
      "dtypes: float64(2), int64(6), object(5)\n",
      "memory usage: 90.6+ KB\n"
     ]
    },
    {
     "data": {
      "text/plain": [
       "\"\\nKey Columns:\\nPassengerId: Unique identifier for each passenger.\\nSurvived: Binary variable indicating survival (1 = Yes, 0 = No).\\nPclass: Ticket class (1 = First, 2 = Second, 3 = Third).\\nName: Passenger's name.\\nSex: Passenger's gender (Male or Female).\\nAge: Passenger's age (some values are missing).\\nSibSp: Number of siblings or spouses aboard.\\nParch: Number of parents or children aboard.\\nTicket: Ticket number.\\nFare: Fare paid by the passenger.\\nCabin: Cabin number (some values are missing).\\nEmbarked: Port of embarkation (C = Cherbourg, Q = Queenstown, S = Southampton).\\n\""
      ]
     },
     "execution_count": 9,
     "metadata": {},
     "output_type": "execute_result"
    }
   ],
   "source": [
    "# Quick look at our data types & null counts \n",
    "training.info()\n",
    "\n",
    "\"\"\"\n",
    "Key Columns:\n",
    "PassengerId: Unique identifier for each passenger.\n",
    "Survived: Binary variable indicating survival (1 = Yes, 0 = No).\n",
    "Pclass: Ticket class (1 = First, 2 = Second, 3 = Third).\n",
    "Name: Passenger's name.\n",
    "Sex: Passenger's gender (Male or Female).\n",
    "Age: Passenger's age (some values are missing).\n",
    "SibSp: Number of siblings or spouses aboard.\n",
    "Parch: Number of parents or children aboard.\n",
    "Ticket: Ticket number.\n",
    "Fare: Fare paid by the passenger.\n",
    "Cabin: Cabin number (some values are missing).\n",
    "Embarked: Port of embarkation (C = Cherbourg, Q = Queenstown, S = Southampton).\n",
    "\"\"\""
   ]
  },
  {
   "cell_type": "code",
   "execution_count": 8,
   "id": "992a4651",
   "metadata": {},
   "outputs": [
    {
     "data": {
      "text/html": [
       "<div>\n",
       "<style scoped>\n",
       "    .dataframe tbody tr th:only-of-type {\n",
       "        vertical-align: middle;\n",
       "    }\n",
       "\n",
       "    .dataframe tbody tr th {\n",
       "        vertical-align: top;\n",
       "    }\n",
       "\n",
       "    .dataframe thead th {\n",
       "        text-align: right;\n",
       "    }\n",
       "</style>\n",
       "<table border=\"1\" class=\"dataframe\">\n",
       "  <thead>\n",
       "    <tr style=\"text-align: right;\">\n",
       "      <th></th>\n",
       "      <th>PassengerId</th>\n",
       "      <th>Survived</th>\n",
       "      <th>Pclass</th>\n",
       "      <th>Age</th>\n",
       "      <th>SibSp</th>\n",
       "      <th>Parch</th>\n",
       "      <th>Fare</th>\n",
       "      <th>train_test</th>\n",
       "    </tr>\n",
       "  </thead>\n",
       "  <tbody>\n",
       "    <tr>\n",
       "      <th>count</th>\n",
       "      <td>891.000000</td>\n",
       "      <td>891.000000</td>\n",
       "      <td>891.000000</td>\n",
       "      <td>714.000000</td>\n",
       "      <td>891.000000</td>\n",
       "      <td>891.000000</td>\n",
       "      <td>891.000000</td>\n",
       "      <td>891.0</td>\n",
       "    </tr>\n",
       "    <tr>\n",
       "      <th>mean</th>\n",
       "      <td>446.000000</td>\n",
       "      <td>0.383838</td>\n",
       "      <td>2.308642</td>\n",
       "      <td>29.699118</td>\n",
       "      <td>0.523008</td>\n",
       "      <td>0.381594</td>\n",
       "      <td>32.204208</td>\n",
       "      <td>1.0</td>\n",
       "    </tr>\n",
       "    <tr>\n",
       "      <th>std</th>\n",
       "      <td>257.353842</td>\n",
       "      <td>0.486592</td>\n",
       "      <td>0.836071</td>\n",
       "      <td>14.526497</td>\n",
       "      <td>1.102743</td>\n",
       "      <td>0.806057</td>\n",
       "      <td>49.693429</td>\n",
       "      <td>0.0</td>\n",
       "    </tr>\n",
       "    <tr>\n",
       "      <th>min</th>\n",
       "      <td>1.000000</td>\n",
       "      <td>0.000000</td>\n",
       "      <td>1.000000</td>\n",
       "      <td>0.420000</td>\n",
       "      <td>0.000000</td>\n",
       "      <td>0.000000</td>\n",
       "      <td>0.000000</td>\n",
       "      <td>1.0</td>\n",
       "    </tr>\n",
       "    <tr>\n",
       "      <th>25%</th>\n",
       "      <td>223.500000</td>\n",
       "      <td>0.000000</td>\n",
       "      <td>2.000000</td>\n",
       "      <td>20.125000</td>\n",
       "      <td>0.000000</td>\n",
       "      <td>0.000000</td>\n",
       "      <td>7.910400</td>\n",
       "      <td>1.0</td>\n",
       "    </tr>\n",
       "    <tr>\n",
       "      <th>50%</th>\n",
       "      <td>446.000000</td>\n",
       "      <td>0.000000</td>\n",
       "      <td>3.000000</td>\n",
       "      <td>28.000000</td>\n",
       "      <td>0.000000</td>\n",
       "      <td>0.000000</td>\n",
       "      <td>14.454200</td>\n",
       "      <td>1.0</td>\n",
       "    </tr>\n",
       "    <tr>\n",
       "      <th>75%</th>\n",
       "      <td>668.500000</td>\n",
       "      <td>1.000000</td>\n",
       "      <td>3.000000</td>\n",
       "      <td>38.000000</td>\n",
       "      <td>1.000000</td>\n",
       "      <td>0.000000</td>\n",
       "      <td>31.000000</td>\n",
       "      <td>1.0</td>\n",
       "    </tr>\n",
       "    <tr>\n",
       "      <th>max</th>\n",
       "      <td>891.000000</td>\n",
       "      <td>1.000000</td>\n",
       "      <td>3.000000</td>\n",
       "      <td>80.000000</td>\n",
       "      <td>8.000000</td>\n",
       "      <td>6.000000</td>\n",
       "      <td>512.329200</td>\n",
       "      <td>1.0</td>\n",
       "    </tr>\n",
       "  </tbody>\n",
       "</table>\n",
       "</div>"
      ],
      "text/plain": [
       "       PassengerId    Survived      Pclass         Age       SibSp  \\\n",
       "count   891.000000  891.000000  891.000000  714.000000  891.000000   \n",
       "mean    446.000000    0.383838    2.308642   29.699118    0.523008   \n",
       "std     257.353842    0.486592    0.836071   14.526497    1.102743   \n",
       "min       1.000000    0.000000    1.000000    0.420000    0.000000   \n",
       "25%     223.500000    0.000000    2.000000   20.125000    0.000000   \n",
       "50%     446.000000    0.000000    3.000000   28.000000    0.000000   \n",
       "75%     668.500000    1.000000    3.000000   38.000000    1.000000   \n",
       "max     891.000000    1.000000    3.000000   80.000000    8.000000   \n",
       "\n",
       "            Parch        Fare  train_test  \n",
       "count  891.000000  891.000000       891.0  \n",
       "mean     0.381594   32.204208         1.0  \n",
       "std      0.806057   49.693429         0.0  \n",
       "min      0.000000    0.000000         1.0  \n",
       "25%      0.000000    7.910400         1.0  \n",
       "50%      0.000000   14.454200         1.0  \n",
       "75%      0.000000   31.000000         1.0  \n",
       "max      6.000000  512.329200         1.0  "
      ]
     },
     "execution_count": 8,
     "metadata": {},
     "output_type": "execute_result"
    }
   ],
   "source": [
    "\"\"\"\n",
    "To better understand the numeric data, we want to use the .describe() method. \n",
    "This gives us an understanding of the central tendencies of the data.\n",
    "\"\"\"\n",
    "training.describe()"
   ]
  },
  {
   "cell_type": "code",
   "execution_count": 4,
   "id": "07fb909c",
   "metadata": {},
   "outputs": [
    {
     "data": {
      "text/plain": [
       "Index(['PassengerId', 'Survived', 'Pclass', 'Age', 'SibSp', 'Parch', 'Fare',\n",
       "       'train_test'],\n",
       "      dtype='object')"
      ]
     },
     "execution_count": 4,
     "metadata": {},
     "output_type": "execute_result"
    }
   ],
   "source": [
    "# Quick way to separate numeric columns\n",
    "training.describe().columns"
   ]
  },
  {
   "cell_type": "code",
   "execution_count": 5,
   "id": "f5b1881d",
   "metadata": {},
   "outputs": [],
   "source": [
    "# Look at numeric and categorical values separately \n",
    "df_num = training[['Age','SibSp','Parch','Fare']]\n",
    "df_cat = training[['Survived','Pclass','Sex','Ticket','Cabin','Embarked']]"
   ]
  },
  {
   "cell_type": "code",
   "execution_count": 6,
   "id": "5aa7da41",
   "metadata": {},
   "outputs": [
    {
     "data": {
      "image/png": "[encoded data removed]",
      "text/plain": [
       "<Figure size 640x480 with 1 Axes>"
      ]
     },
     "metadata": {},
     "output_type": "display_data"
    },
    {
     "data": {
      "image/png": "[encoded data removed]",
      "text/plain": [
       "<Figure size 640x480 with 1 Axes>"
      ]
     },
     "metadata": {},
     "output_type": "display_data"
    },
    {
     "data": {
      "image/png": "[encoded data removed]",
      "text/plain": [
       "<Figure size 640x480 with 1 Axes>"
      ]
     },
     "metadata": {},
     "output_type": "display_data"
    },
    {
     "data": {
      "image/png": "[encoded data removed]",
      "text/plain": [
       "<Figure size 640x480 with 1 Axes>"
      ]
     },
     "metadata": {},
     "output_type": "display_data"
    }
   ],
   "source": [
    "# Distributions for all numeric variables \n",
    "for i in df_num.columns:\n",
    "    plt.hist(df_num[i])\n",
    "    plt.title(i)\n",
    "    plt.show()"
   ]
  },
  {
   "cell_type": "code",
   "execution_count": 10,
   "id": "b7654103",
   "metadata": {},
   "outputs": [
    {
     "name": "stdout",
     "output_type": "stream",
     "text": [
      "            Age     SibSp     Parch      Fare\n",
      "Age    1.000000 -0.308247 -0.189119  0.096067\n",
      "SibSp -0.308247  1.000000  0.414838  0.159651\n",
      "Parch -0.189119  0.414838  1.000000  0.216225\n",
      "Fare   0.096067  0.159651  0.216225  1.000000\n"
     ]
    },
    {
     "data": {
      "text/plain": [
       "<Axes: >"
      ]
     },
     "execution_count": 10,
     "metadata": {},
     "output_type": "execute_result"
    },
    {
     "data": {
      "image/png": "[encoded data removed]",
      "text/plain": [
       "<Figure size 640x480 with 2 Axes>"
      ]
     },
     "metadata": {},
     "output_type": "display_data"
    }
   ],
   "source": [
    "\"\"\"\n",
    "Let's correlate the numeric features.\n",
    "\n",
    "https://pandas.pydata.org/docs/reference/api/pandas.DataFrame.corr.html\n",
    "\n",
    "The correlation coefficient ranges from −1 to 1.\n",
    "An absolute value of exactly 1 implies that a linear equation describes the relationship between X and Y \n",
    "perfectly, with all data points lying on a line. \n",
    "The correlation sign is determined by the regression slope: a value of +1 implies that all data points \n",
    "lie on a line for which Y increases as X increases, whereas a value of -1 implies a line where Y increases \n",
    "while X decreases. A value of 0 implies that there is no linear dependency between the variables.\n",
    "\"\"\"\n",
    "print(df_num.corr())\n",
    "sns.heatmap(df_num.corr())"
   ]
  },
  {
   "cell_type": "code",
   "execution_count": 16,
   "id": "64c942b5",
   "metadata": {},
   "outputs": [
    {
     "data": {
      "text/html": [
       "<div>\n",
       "<style scoped>\n",
       "    .dataframe tbody tr th:only-of-type {\n",
       "        vertical-align: middle;\n",
       "    }\n",
       "\n",
       "    .dataframe tbody tr th {\n",
       "        vertical-align: top;\n",
       "    }\n",
       "\n",
       "    .dataframe thead th {\n",
       "        text-align: right;\n",
       "    }\n",
       "</style>\n",
       "<table border=\"1\" class=\"dataframe\">\n",
       "  <thead>\n",
       "    <tr style=\"text-align: right;\">\n",
       "      <th></th>\n",
       "      <th>Age</th>\n",
       "      <th>Fare</th>\n",
       "      <th>Parch</th>\n",
       "      <th>SibSp</th>\n",
       "    </tr>\n",
       "    <tr>\n",
       "      <th>Survived</th>\n",
       "      <th></th>\n",
       "      <th></th>\n",
       "      <th></th>\n",
       "      <th></th>\n",
       "    </tr>\n",
       "  </thead>\n",
       "  <tbody>\n",
       "    <tr>\n",
       "      <th>0</th>\n",
       "      <td>30.626179</td>\n",
       "      <td>22.117887</td>\n",
       "      <td>0.329690</td>\n",
       "      <td>0.553734</td>\n",
       "    </tr>\n",
       "    <tr>\n",
       "      <th>1</th>\n",
       "      <td>28.343690</td>\n",
       "      <td>48.395408</td>\n",
       "      <td>0.464912</td>\n",
       "      <td>0.473684</td>\n",
       "    </tr>\n",
       "  </tbody>\n",
       "</table>\n",
       "</div>"
      ],
      "text/plain": [
       "                Age       Fare     Parch     SibSp\n",
       "Survived                                          \n",
       "0         30.626179  22.117887  0.329690  0.553734\n",
       "1         28.343690  48.395408  0.464912  0.473684"
      ]
     },
     "execution_count": 16,
     "metadata": {},
     "output_type": "execute_result"
    }
   ],
   "source": [
    "\"\"\"\n",
    "Compare survival rate across Age, SibSp, Parch, and Fare.\n",
    "https://pandas.pydata.org/docs/reference/api/pandas.pivot_table.html\n",
    "This gives us a spreadsheet-style table indicating means of each of the numerical features.\n",
    "\n",
    "df = pd.DataFrame({\"A\": [\"foo\", \"foo\", \"foo\", \"foo\", \"foo\",\n",
    "                         \"bar\", \"bar\", \"bar\", \"bar\"],\n",
    "                   \"B\": [\"one\", \"one\", \"one\", \"two\", \"two\",\n",
    "                         \"one\", \"one\", \"two\", \"two\"],\n",
    "                   \"C\": [\"small\", \"large\", \"large\", \"small\",\n",
    "                         \"small\", \"large\", \"small\", \"small\",\n",
    "                         \"large\"],\n",
    "                   \"D\": [1, 2, 2, 3, 3, 4, 5, 6, 7],\n",
    "                   \"E\": [2, 4, 5, 5, 6, 6, 8, 9, 9]})\n",
    "df\n",
    "     A    B      C  D  E\n",
    "0  foo  one  small  1  2\n",
    "1  foo  one  large  2  4\n",
    "2  foo  one  large  2  5\n",
    "3  foo  two  small  3  5\n",
    "4  foo  two  small  3  6\n",
    "5  bar  one  large  4  6\n",
    "6  bar  one  small  5  8\n",
    "7  bar  two  small  6  9\n",
    "8  bar  two  large  7  9\n",
    "\n",
    ">>> table = pd.pivot_table(df, values='D', index=['A', 'B'],\n",
    "...                        columns=['C'], aggfunc=\"sum\")\n",
    ">>> table\n",
    "C        large  small\n",
    "A   B\n",
    "bar one    4.0    5.0\n",
    "    two    7.0    6.0\n",
    "foo one    4.0    1.0\n",
    "    two    NaN    6.0\n",
    "    \n",
    "From the above example, we are summing all the values from D that have 'foo', 'two' and 'small' in the same \n",
    "row giving 6.0\n",
    "\"\"\"\n",
    "pd.pivot_table(training, index = 'Survived', values = ['Age','SibSp','Parch','Fare'], aggfunc=\"mean\")"
   ]
  },
  {
   "cell_type": "code",
   "execution_count": 25,
   "id": "4de897b1",
   "metadata": {},
   "outputs": [
    {
     "data": {
      "image/png": "[encoded data removed]",
      "text/plain": [
       "<Figure size 640x480 with 1 Axes>"
      ]
     },
     "metadata": {},
     "output_type": "display_data"
    },
    {
     "data": {
      "image/png": "[encoded data removed]",
      "text/plain": [
       "<Figure size 640x480 with 1 Axes>"
      ]
     },
     "metadata": {},
     "output_type": "display_data"
    },
    {
     "data": {
      "image/png": "[encoded data removed]",
      "text/plain": [
       "<Figure size 640x480 with 1 Axes>"
      ]
     },
     "metadata": {},
     "output_type": "display_data"
    },
    {
     "data": {
      "image/png": "[encoded data removed]",
      "text/plain": [
       "<Figure size 640x480 with 1 Axes>"
      ]
     },
     "metadata": {},
     "output_type": "display_data"
    },
    {
     "data": {
      "image/png": "[encoded data removed]",
      "text/plain": [
       "<Figure size 640x480 with 1 Axes>"
      ]
     },
     "metadata": {},
     "output_type": "display_data"
    },
    {
     "data": {
      "image/png": "[encoded data removed]",
      "text/plain": [
       "<Figure size 640x480 with 1 Axes>"
      ]
     },
     "metadata": {},
     "output_type": "display_data"
    }
   ],
   "source": [
    "\"\"\"\n",
    "https://pandas.pydata.org/docs/reference/api/pandas.Series.value_counts.html\n",
    "Return a Series containing counts of unique values.\n",
    "\n",
    "The resulting object will be in descending order so that the first element is the most \n",
    "frequently-occurring element. Excludes NA values by default.\n",
    "\n",
    ">>> s = pd.Series([3, 1, 2, 3, 4, np.nan])\n",
    ">>> s.value_counts(normalize=True)\n",
    "3.0    0.4\n",
    "1.0    0.2\n",
    "2.0    0.2\n",
    "4.0    0.2\n",
    "Name: proportion, dtype: float64\n",
    "\n",
    "\"\"\"\n",
    "for i in df_cat.columns:\n",
    "    sns.barplot(x=df_cat[i].value_counts().index, y=df_cat[i].value_counts()).set_title(i)\n",
    "    plt.show()"
   ]
  },
  {
   "cell_type": "markdown",
   "id": "4dde6363",
   "metadata": {},
   "source": [
    "Cabin and ticket graphs are very messy. This is an area where we may want to do some feature engineering!"
   ]
  },
  {
   "cell_type": "code",
   "execution_count": 63,
   "id": "4dec7bfb",
   "metadata": {},
   "outputs": [
    {
     "name": "stdout",
     "output_type": "stream",
     "text": [
      "Pclass      1   2    3\n",
      "Survived              \n",
      "0          80  97  372\n",
      "1         136  87  119\n",
      "\n",
      "Sex       female  male\n",
      "Survived              \n",
      "0             81   468\n",
      "1            233   109\n",
      "\n",
      "Embarked   C   Q    S\n",
      "Survived             \n",
      "0         75  47  427\n",
      "1         93  30  217\n"
     ]
    }
   ],
   "source": [
    "# Comparing survival and each of these categorical variables \n",
    "# For example, count the number of tickets that have survived (or not) with each Pclass \n",
    "print(pd.pivot_table(training, index = 'Survived', columns = 'Pclass', values = 'Ticket', aggfunc ='count'))\n",
    "print()\n",
    "print(pd.pivot_table(training, index = 'Survived', columns = 'Sex', values = 'Ticket', aggfunc ='count'))\n",
    "print()\n",
    "print(pd.pivot_table(training, index = 'Survived', columns = 'Embarked', values = 'Ticket', aggfunc ='count'))"
   ]
  },
  {
   "cell_type": "markdown",
   "id": "303155c1",
   "metadata": {},
   "source": [
    "## Feature Engineering\n",
    "\n",
    "1) Cabin - Simplify cabins\n",
    "2) Tickets - Do different ticket types impact survival rates?\n",
    "3) Does a person's title relate to survival rates?"
   ]
  },
  {
   "cell_type": "code",
   "execution_count": 29,
   "id": "78a21002",
   "metadata": {},
   "outputs": [
    {
     "name": "stdout",
     "output_type": "stream",
     "text": [
      "0       NaN\n",
      "1       C85\n",
      "2       NaN\n",
      "3      C123\n",
      "4       NaN\n",
      "       ... \n",
      "886     NaN\n",
      "887     B42\n",
      "888     NaN\n",
      "889    C148\n",
      "890     NaN\n",
      "Name: Cabin, Length: 891, dtype: object\n"
     ]
    },
    {
     "data": {
      "text/plain": [
       "cabin_multiple\n",
       "0    687\n",
       "1    180\n",
       "2     16\n",
       "3      6\n",
       "4      2\n",
       "Name: count, dtype: int64"
      ]
     },
     "execution_count": 29,
     "metadata": {},
     "output_type": "execute_result"
    }
   ],
   "source": [
    "print(df_cat.Cabin)\n",
    "\"\"\"\n",
    "If cabin value is NaN, assign it a zero. For non-NaN, count the number of cabins associated for each passenger.\n",
    "\"\"\"\n",
    "training['cabin_multiple'] = training.Cabin.apply(lambda x: 0 if pd.isna(x) else len(x.split(' ')))\n",
    "training['cabin_multiple'].value_counts()"
   ]
  },
  {
   "cell_type": "code",
   "execution_count": 44,
   "id": "28b9ba56",
   "metadata": {},
   "outputs": [
    {
     "data": {
      "text/html": [
       "<div>\n",
       "<style scoped>\n",
       "    .dataframe tbody tr th:only-of-type {\n",
       "        vertical-align: middle;\n",
       "    }\n",
       "\n",
       "    .dataframe tbody tr th {\n",
       "        vertical-align: top;\n",
       "    }\n",
       "\n",
       "    .dataframe thead th {\n",
       "        text-align: right;\n",
       "    }\n",
       "</style>\n",
       "<table border=\"1\" class=\"dataframe\">\n",
       "  <thead>\n",
       "    <tr style=\"text-align: right;\">\n",
       "      <th>cabin_multiple</th>\n",
       "      <th>0</th>\n",
       "      <th>1</th>\n",
       "      <th>2</th>\n",
       "      <th>3</th>\n",
       "      <th>4</th>\n",
       "    </tr>\n",
       "    <tr>\n",
       "      <th>Survived</th>\n",
       "      <th></th>\n",
       "      <th></th>\n",
       "      <th></th>\n",
       "      <th></th>\n",
       "      <th></th>\n",
       "    </tr>\n",
       "  </thead>\n",
       "  <tbody>\n",
       "    <tr>\n",
       "      <th>0</th>\n",
       "      <td>481.0</td>\n",
       "      <td>58.0</td>\n",
       "      <td>7.0</td>\n",
       "      <td>3.0</td>\n",
       "      <td>NaN</td>\n",
       "    </tr>\n",
       "    <tr>\n",
       "      <th>1</th>\n",
       "      <td>206.0</td>\n",
       "      <td>122.0</td>\n",
       "      <td>9.0</td>\n",
       "      <td>3.0</td>\n",
       "      <td>2.0</td>\n",
       "    </tr>\n",
       "  </tbody>\n",
       "</table>\n",
       "</div>"
      ],
      "text/plain": [
       "cabin_multiple      0      1    2    3    4\n",
       "Survived                                   \n",
       "0               481.0   58.0  7.0  3.0  NaN\n",
       "1               206.0  122.0  9.0  3.0  2.0"
      ]
     },
     "execution_count": 44,
     "metadata": {},
     "output_type": "execute_result"
    }
   ],
   "source": [
    "# Count the number of tickets that have survived (or not) with each associated number of cabins \n",
    "pd.pivot_table(training, index = 'Survived', columns = 'cabin_multiple', values = 'Ticket', aggfunc ='count')"
   ]
  },
  {
   "cell_type": "code",
   "execution_count": 46,
   "id": "76161846",
   "metadata": {},
   "outputs": [],
   "source": [
    "\"\"\"\n",
    "Creates categories based on the cabin letter (n stands for null). We will treat null values like it's own category\n",
    "\"\"\"\n",
    "training['cabin_adv'] = training.Cabin.apply(lambda x: str(x)[0])"
   ]
  },
  {
   "cell_type": "code",
   "execution_count": 49,
   "id": "92775b3c",
   "metadata": {},
   "outputs": [
    {
     "name": "stdout",
     "output_type": "stream",
     "text": [
      "cabin_adv\n",
      "n    687\n",
      "C     59\n",
      "B     47\n",
      "D     33\n",
      "E     32\n",
      "A     15\n",
      "F     13\n",
      "G      4\n",
      "T      1\n",
      "Name: count, dtype: int64\n"
     ]
    },
    {
     "data": {
      "text/html": [
       "<div>\n",
       "<style scoped>\n",
       "    .dataframe tbody tr th:only-of-type {\n",
       "        vertical-align: middle;\n",
       "    }\n",
       "\n",
       "    .dataframe tbody tr th {\n",
       "        vertical-align: top;\n",
       "    }\n",
       "\n",
       "    .dataframe thead th {\n",
       "        text-align: right;\n",
       "    }\n",
       "</style>\n",
       "<table border=\"1\" class=\"dataframe\">\n",
       "  <thead>\n",
       "    <tr style=\"text-align: right;\">\n",
       "      <th>cabin_adv</th>\n",
       "      <th>A</th>\n",
       "      <th>B</th>\n",
       "      <th>C</th>\n",
       "      <th>D</th>\n",
       "      <th>E</th>\n",
       "      <th>F</th>\n",
       "      <th>G</th>\n",
       "      <th>T</th>\n",
       "      <th>n</th>\n",
       "    </tr>\n",
       "    <tr>\n",
       "      <th>Survived</th>\n",
       "      <th></th>\n",
       "      <th></th>\n",
       "      <th></th>\n",
       "      <th></th>\n",
       "      <th></th>\n",
       "      <th></th>\n",
       "      <th></th>\n",
       "      <th></th>\n",
       "      <th></th>\n",
       "    </tr>\n",
       "  </thead>\n",
       "  <tbody>\n",
       "    <tr>\n",
       "      <th>0</th>\n",
       "      <td>8.0</td>\n",
       "      <td>12.0</td>\n",
       "      <td>24.0</td>\n",
       "      <td>8.0</td>\n",
       "      <td>8.0</td>\n",
       "      <td>5.0</td>\n",
       "      <td>2.0</td>\n",
       "      <td>1.0</td>\n",
       "      <td>481.0</td>\n",
       "    </tr>\n",
       "    <tr>\n",
       "      <th>1</th>\n",
       "      <td>7.0</td>\n",
       "      <td>35.0</td>\n",
       "      <td>35.0</td>\n",
       "      <td>25.0</td>\n",
       "      <td>24.0</td>\n",
       "      <td>8.0</td>\n",
       "      <td>2.0</td>\n",
       "      <td>NaN</td>\n",
       "      <td>206.0</td>\n",
       "    </tr>\n",
       "  </tbody>\n",
       "</table>\n",
       "</div>"
      ],
      "text/plain": [
       "cabin_adv    A     B     C     D     E    F    G    T      n\n",
       "Survived                                                    \n",
       "0          8.0  12.0  24.0   8.0   8.0  5.0  2.0  1.0  481.0\n",
       "1          7.0  35.0  35.0  25.0  24.0  8.0  2.0  NaN  206.0"
      ]
     },
     "execution_count": 49,
     "metadata": {},
     "output_type": "execute_result"
    }
   ],
   "source": [
    "# Comparing surivial rate by cabin\n",
    "print(training.cabin_adv.value_counts())\n",
    "# Can also do values = 'Ticket'\n",
    "pd.pivot_table(training,index='Survived', columns='cabin_adv', values = 'Name', aggfunc='count') "
   ]
  },
  {
   "cell_type": "code",
   "execution_count": 53,
   "id": "67ac14e8",
   "metadata": {},
   "outputs": [
    {
     "name": "stdout",
     "output_type": "stream",
     "text": [
      "numeric_ticket\n",
      "1    661\n",
      "0    230\n",
      "Name: count, dtype: int64\n",
      "ticket_letters\n",
      "0            665\n",
      "pc            60\n",
      "ca            41\n",
      "a5            21\n",
      "stono2        18\n",
      "sotonoq       15\n",
      "scparis       11\n",
      "wc            10\n",
      "a4             7\n",
      "soc            6\n",
      "fcc            5\n",
      "c              5\n",
      "sopp           3\n",
      "pp             3\n",
      "wep            3\n",
      "ppp            2\n",
      "scah           2\n",
      "sotono2        2\n",
      "swpp           2\n",
      "fc             1\n",
      "scahbasle      1\n",
      "as             1\n",
      "sp             1\n",
      "sc             1\n",
      "scow           1\n",
      "fa             1\n",
      "sop            1\n",
      "sca4           1\n",
      "casoton        1\n",
      "Name: count, dtype: int64\n"
     ]
    }
   ],
   "source": [
    "# Understand ticket values better. numeric vs non numeric \n",
    "training['numeric_ticket'] = training.Ticket.apply(lambda x: 1 if x.isnumeric() else 0)\n",
    "training['ticket_letters'] = training.Ticket.apply(lambda x: ''.join(x.split(' ')[:-1]).replace('.','').replace('/','').lower() if len(x.split(' ')[:-1]) >0 else 0)\n",
    "\n",
    "print(training['numeric_ticket'].value_counts())\n",
    "print(training['ticket_letters'].value_counts())"
   ]
  },
  {
   "cell_type": "code",
   "execution_count": 58,
   "id": "da2ecfb2",
   "metadata": {},
   "outputs": [
    {
     "data": {
      "text/html": [
       "<div>\n",
       "<style scoped>\n",
       "    .dataframe tbody tr th:only-of-type {\n",
       "        vertical-align: middle;\n",
       "    }\n",
       "\n",
       "    .dataframe tbody tr th {\n",
       "        vertical-align: top;\n",
       "    }\n",
       "\n",
       "    .dataframe thead th {\n",
       "        text-align: right;\n",
       "    }\n",
       "</style>\n",
       "<table border=\"1\" class=\"dataframe\">\n",
       "  <thead>\n",
       "    <tr style=\"text-align: right;\">\n",
       "      <th>numeric_ticket</th>\n",
       "      <th>0</th>\n",
       "      <th>1</th>\n",
       "    </tr>\n",
       "    <tr>\n",
       "      <th>Survived</th>\n",
       "      <th></th>\n",
       "      <th></th>\n",
       "    </tr>\n",
       "  </thead>\n",
       "  <tbody>\n",
       "    <tr>\n",
       "      <th>0</th>\n",
       "      <td>142</td>\n",
       "      <td>407</td>\n",
       "    </tr>\n",
       "    <tr>\n",
       "      <th>1</th>\n",
       "      <td>88</td>\n",
       "      <td>254</td>\n",
       "    </tr>\n",
       "  </tbody>\n",
       "</table>\n",
       "</div>"
      ],
      "text/plain": [
       "numeric_ticket    0    1\n",
       "Survived                \n",
       "0               142  407\n",
       "1                88  254"
      ]
     },
     "execution_count": 58,
     "metadata": {},
     "output_type": "execute_result"
    }
   ],
   "source": [
    "pd.pivot_table(training,index='Survived',columns='numeric_ticket', values = 'Ticket', aggfunc='count')"
   ]
  },
  {
   "cell_type": "code",
   "execution_count": 59,
   "id": "217c99ac",
   "metadata": {},
   "outputs": [
    {
     "data": {
      "text/html": [
       "<div>\n",
       "<style scoped>\n",
       "    .dataframe tbody tr th:only-of-type {\n",
       "        vertical-align: middle;\n",
       "    }\n",
       "\n",
       "    .dataframe tbody tr th {\n",
       "        vertical-align: top;\n",
       "    }\n",
       "\n",
       "    .dataframe thead th {\n",
       "        text-align: right;\n",
       "    }\n",
       "</style>\n",
       "<table border=\"1\" class=\"dataframe\">\n",
       "  <thead>\n",
       "    <tr style=\"text-align: right;\">\n",
       "      <th>ticket_letters</th>\n",
       "      <th>0</th>\n",
       "      <th>a4</th>\n",
       "      <th>a5</th>\n",
       "      <th>as</th>\n",
       "      <th>c</th>\n",
       "      <th>ca</th>\n",
       "      <th>casoton</th>\n",
       "      <th>fa</th>\n",
       "      <th>fc</th>\n",
       "      <th>fcc</th>\n",
       "      <th>...</th>\n",
       "      <th>soc</th>\n",
       "      <th>sop</th>\n",
       "      <th>sopp</th>\n",
       "      <th>sotono2</th>\n",
       "      <th>sotonoq</th>\n",
       "      <th>sp</th>\n",
       "      <th>stono2</th>\n",
       "      <th>swpp</th>\n",
       "      <th>wc</th>\n",
       "      <th>wep</th>\n",
       "    </tr>\n",
       "    <tr>\n",
       "      <th>Survived</th>\n",
       "      <th></th>\n",
       "      <th></th>\n",
       "      <th></th>\n",
       "      <th></th>\n",
       "      <th></th>\n",
       "      <th></th>\n",
       "      <th></th>\n",
       "      <th></th>\n",
       "      <th></th>\n",
       "      <th></th>\n",
       "      <th></th>\n",
       "      <th></th>\n",
       "      <th></th>\n",
       "      <th></th>\n",
       "      <th></th>\n",
       "      <th></th>\n",
       "      <th></th>\n",
       "      <th></th>\n",
       "      <th></th>\n",
       "      <th></th>\n",
       "      <th></th>\n",
       "    </tr>\n",
       "  </thead>\n",
       "  <tbody>\n",
       "    <tr>\n",
       "      <th>0</th>\n",
       "      <td>410.0</td>\n",
       "      <td>7.0</td>\n",
       "      <td>19.0</td>\n",
       "      <td>1.0</td>\n",
       "      <td>3.0</td>\n",
       "      <td>27.0</td>\n",
       "      <td>1.0</td>\n",
       "      <td>1.0</td>\n",
       "      <td>1.0</td>\n",
       "      <td>1.0</td>\n",
       "      <td>...</td>\n",
       "      <td>5.0</td>\n",
       "      <td>1.0</td>\n",
       "      <td>3.0</td>\n",
       "      <td>2.0</td>\n",
       "      <td>13.0</td>\n",
       "      <td>1.0</td>\n",
       "      <td>10.0</td>\n",
       "      <td>NaN</td>\n",
       "      <td>9.0</td>\n",
       "      <td>2.0</td>\n",
       "    </tr>\n",
       "    <tr>\n",
       "      <th>1</th>\n",
       "      <td>255.0</td>\n",
       "      <td>NaN</td>\n",
       "      <td>2.0</td>\n",
       "      <td>NaN</td>\n",
       "      <td>2.0</td>\n",
       "      <td>14.0</td>\n",
       "      <td>NaN</td>\n",
       "      <td>NaN</td>\n",
       "      <td>NaN</td>\n",
       "      <td>4.0</td>\n",
       "      <td>...</td>\n",
       "      <td>1.0</td>\n",
       "      <td>NaN</td>\n",
       "      <td>NaN</td>\n",
       "      <td>NaN</td>\n",
       "      <td>2.0</td>\n",
       "      <td>NaN</td>\n",
       "      <td>8.0</td>\n",
       "      <td>2.0</td>\n",
       "      <td>1.0</td>\n",
       "      <td>1.0</td>\n",
       "    </tr>\n",
       "  </tbody>\n",
       "</table>\n",
       "<p>2 rows × 29 columns</p>\n",
       "</div>"
      ],
      "text/plain": [
       "ticket_letters      0   a4    a5   as    c    ca  casoton   fa   fc  fcc  ...  \\\n",
       "Survived                                                                  ...   \n",
       "0               410.0  7.0  19.0  1.0  3.0  27.0      1.0  1.0  1.0  1.0  ...   \n",
       "1               255.0  NaN   2.0  NaN  2.0  14.0      NaN  NaN  NaN  4.0  ...   \n",
       "\n",
       "ticket_letters  soc  sop  sopp  sotono2  sotonoq   sp  stono2  swpp   wc  wep  \n",
       "Survived                                                                       \n",
       "0               5.0  1.0   3.0      2.0     13.0  1.0    10.0   NaN  9.0  2.0  \n",
       "1               1.0  NaN   NaN      NaN      2.0  NaN     8.0   2.0  1.0  1.0  \n",
       "\n",
       "[2 rows x 29 columns]"
      ]
     },
     "execution_count": 59,
     "metadata": {},
     "output_type": "execute_result"
    }
   ],
   "source": [
    "pd.pivot_table(training,index='Survived',columns='ticket_letters', values = 'Ticket', aggfunc='count')"
   ]
  },
  {
   "cell_type": "code",
   "execution_count": 62,
   "id": "3bd7ae3a",
   "metadata": {},
   "outputs": [
    {
     "name": "stdout",
     "output_type": "stream",
     "text": [
      "0                              Braund, Mr. Owen Harris\n",
      "1    Cumings, Mrs. John Bradley (Florence Briggs Th...\n",
      "2                               Heikkinen, Miss. Laina\n",
      "3         Futrelle, Mrs. Jacques Heath (Lily May Peel)\n",
      "4                             Allen, Mr. William Henry\n",
      "5                                     Moran, Mr. James\n",
      "6                              McCarthy, Mr. Timothy J\n",
      "7                       Palsson, Master. Gosta Leonard\n",
      "8    Johnson, Mrs. Oscar W (Elisabeth Vilhelmina Berg)\n",
      "9                  Nasser, Mrs. Nicholas (Adele Achem)\n",
      "Name: Name, dtype: object\n"
     ]
    },
    {
     "data": {
      "text/plain": [
       "name_title\n",
       "Mr              517\n",
       "Miss            182\n",
       "Mrs             125\n",
       "Master           40\n",
       "Dr                7\n",
       "Rev               6\n",
       "Mlle              2\n",
       "Major             2\n",
       "Col               2\n",
       "the Countess      1\n",
       "Capt              1\n",
       "Ms                1\n",
       "Sir               1\n",
       "Lady              1\n",
       "Mme               1\n",
       "Don               1\n",
       "Jonkheer          1\n",
       "Name: count, dtype: int64"
      ]
     },
     "execution_count": 62,
     "metadata": {},
     "output_type": "execute_result"
    }
   ],
   "source": [
    "# Feature engineering on person's title. mr., ms., master. etc\n",
    "print(training.Name.head(10))\n",
    "training['name_title'] = training.Name.apply(lambda x: x.split(',')[1].split('.')[0].strip())\n",
    "training['name_title'].value_counts()"
   ]
  },
  {
   "cell_type": "code",
   "execution_count": null,
   "id": "b1d2d396",
   "metadata": {},
   "outputs": [],
   "source": [
    "pd.pivot_table(training,index='Survived',columns='name"
   ]
  },
  {
   "cell_type": "code",
   "execution_count": 66,
   "id": "01103e9c",
   "metadata": {},
   "outputs": [
    {
     "data": {
      "text/html": [
       "<div>\n",
       "<style scoped>\n",
       "    .dataframe tbody tr th:only-of-type {\n",
       "        vertical-align: middle;\n",
       "    }\n",
       "\n",
       "    .dataframe tbody tr th {\n",
       "        vertical-align: top;\n",
       "    }\n",
       "\n",
       "    .dataframe thead th {\n",
       "        text-align: right;\n",
       "    }\n",
       "</style>\n",
       "<table border=\"1\" class=\"dataframe\">\n",
       "  <thead>\n",
       "    <tr style=\"text-align: right;\">\n",
       "      <th>name_title</th>\n",
       "      <th>Capt</th>\n",
       "      <th>Col</th>\n",
       "      <th>Don</th>\n",
       "      <th>Dr</th>\n",
       "      <th>Jonkheer</th>\n",
       "      <th>Lady</th>\n",
       "      <th>Major</th>\n",
       "      <th>Master</th>\n",
       "      <th>Miss</th>\n",
       "      <th>Mlle</th>\n",
       "      <th>Mme</th>\n",
       "      <th>Mr</th>\n",
       "      <th>Mrs</th>\n",
       "      <th>Ms</th>\n",
       "      <th>Rev</th>\n",
       "      <th>Sir</th>\n",
       "      <th>the Countess</th>\n",
       "    </tr>\n",
       "    <tr>\n",
       "      <th>Survived</th>\n",
       "      <th></th>\n",
       "      <th></th>\n",
       "      <th></th>\n",
       "      <th></th>\n",
       "      <th></th>\n",
       "      <th></th>\n",
       "      <th></th>\n",
       "      <th></th>\n",
       "      <th></th>\n",
       "      <th></th>\n",
       "      <th></th>\n",
       "      <th></th>\n",
       "      <th></th>\n",
       "      <th></th>\n",
       "      <th></th>\n",
       "      <th></th>\n",
       "      <th></th>\n",
       "    </tr>\n",
       "  </thead>\n",
       "  <tbody>\n",
       "    <tr>\n",
       "      <th>0</th>\n",
       "      <td>1.0</td>\n",
       "      <td>1.0</td>\n",
       "      <td>1.0</td>\n",
       "      <td>4.0</td>\n",
       "      <td>1.0</td>\n",
       "      <td>NaN</td>\n",
       "      <td>1.0</td>\n",
       "      <td>17.0</td>\n",
       "      <td>55.0</td>\n",
       "      <td>NaN</td>\n",
       "      <td>NaN</td>\n",
       "      <td>436.0</td>\n",
       "      <td>26.0</td>\n",
       "      <td>NaN</td>\n",
       "      <td>6.0</td>\n",
       "      <td>NaN</td>\n",
       "      <td>NaN</td>\n",
       "    </tr>\n",
       "    <tr>\n",
       "      <th>1</th>\n",
       "      <td>NaN</td>\n",
       "      <td>1.0</td>\n",
       "      <td>NaN</td>\n",
       "      <td>3.0</td>\n",
       "      <td>NaN</td>\n",
       "      <td>1.0</td>\n",
       "      <td>1.0</td>\n",
       "      <td>23.0</td>\n",
       "      <td>127.0</td>\n",
       "      <td>2.0</td>\n",
       "      <td>1.0</td>\n",
       "      <td>81.0</td>\n",
       "      <td>99.0</td>\n",
       "      <td>1.0</td>\n",
       "      <td>NaN</td>\n",
       "      <td>1.0</td>\n",
       "      <td>1.0</td>\n",
       "    </tr>\n",
       "  </tbody>\n",
       "</table>\n",
       "</div>"
      ],
      "text/plain": [
       "name_title  Capt  Col  Don   Dr  Jonkheer  Lady  Major  Master   Miss  Mlle  \\\n",
       "Survived                                                                      \n",
       "0            1.0  1.0  1.0  4.0       1.0   NaN    1.0    17.0   55.0   NaN   \n",
       "1            NaN  1.0  NaN  3.0       NaN   1.0    1.0    23.0  127.0   2.0   \n",
       "\n",
       "name_title  Mme     Mr   Mrs   Ms  Rev  Sir  the Countess  \n",
       "Survived                                                   \n",
       "0           NaN  436.0  26.0  NaN  6.0  NaN           NaN  \n",
       "1           1.0   81.0  99.0  1.0  NaN  1.0           1.0  "
      ]
     },
     "execution_count": 66,
     "metadata": {},
     "output_type": "execute_result"
    }
   ],
   "source": [
    "pd.pivot_table(training,index='Survived',columns='name_title', values = 'Ticket', aggfunc='count')"
   ]
  },
  {
   "cell_type": "markdown",
   "id": "8ec4b6fd",
   "metadata": {},
   "source": [
    "## Data Preprocessing for Model\n",
    "\n",
    "1) Drop null values from Embarked (only 2)¶\n",
    "2) Include only relevant variables (we want to exclude things like name and passanger ID so that we could have a reasonable number of features for our models to deal with)\n",
    "Variables: 'Pclass','Sex','Age','SibSp','Parch','Fare','Embarked','cabin_adv','cabin_multiple','numeric_ticket','name_title'\n",
    "3) We can ensure that our traning and test data have the same columns. \n",
    "4) Impute data with mean for fare and age (Should also experiment with median)\n",
    "5) Normalized fare using logarithm to give more semblance of a normal distribution"
   ]
  },
  {
   "cell_type": "code",
   "execution_count": 72,
   "id": "377e350f",
   "metadata": {},
   "outputs": [
    {
     "name": "stdout",
     "output_type": "stream",
     "text": [
      "    Age  SibSp  Parch  norm_fare  cabin_multiple  numeric_ticket  train_test  \\\n",
      "0  22.0      1      0   2.110213               0               0           1   \n",
      "1  38.0      1      0   4.280593               1               0           1   \n",
      "2  26.0      0      0   2.188856               0               0           1   \n",
      "3  35.0      1      0   3.990834               1               1           1   \n",
      "4  35.0      0      0   2.202765               0               1           1   \n",
      "\n",
      "   Pclass_1  Pclass_2  Pclass_3  ...  name_title_Master  name_title_Miss  \\\n",
      "0     False     False      True  ...              False            False   \n",
      "1      True     False     False  ...              False            False   \n",
      "2     False     False      True  ...              False             True   \n",
      "3      True     False     False  ...              False            False   \n",
      "4     False     False      True  ...              False            False   \n",
      "\n",
      "   name_title_Mlle  name_title_Mme  name_title_Mr  name_title_Mrs  \\\n",
      "0            False           False           True           False   \n",
      "1            False           False          False            True   \n",
      "2            False           False          False           False   \n",
      "3            False           False          False            True   \n",
      "4            False           False           True           False   \n",
      "\n",
      "   name_title_Ms  name_title_Rev  name_title_Sir  name_title_the Countess  \n",
      "0          False           False           False                    False  \n",
      "1          False           False           False                    False  \n",
      "2          False           False           False                    False  \n",
      "3          False           False           False                    False  \n",
      "4          False           False           False                    False  \n",
      "\n",
      "[5 rows x 42 columns]\n"
     ]
    },
    {
     "data": {
      "image/png": "[encoded data removed]",
      "text/plain": [
       "<Figure size 640x480 with 1 Axes>"
      ]
     },
     "metadata": {},
     "output_type": "display_data"
    }
   ],
   "source": [
    "# Create all categorical variables that we did above for both training and test sets \n",
    "all_data['cabin_multiple'] = all_data.Cabin.apply(lambda x: 0 if pd.isna(x) else len(x.split(' ')))\n",
    "all_data['cabin_adv'] = all_data.Cabin.apply(lambda x: str(x)[0])\n",
    "all_data['numeric_ticket'] = all_data.Ticket.apply(lambda x: 1 if x.isnumeric() else 0)\n",
    "all_data['ticket_letters'] = all_data.Ticket.apply(lambda x: ''.join(x.split(' ')[:-1]).replace('.','').replace('/','').lower() if len(x.split(' ')[:-1]) >0 else 0)\n",
    "all_data['name_title'] = all_data.Name.apply(lambda x: x.split(',')[1].split('.')[0].strip())\n",
    "\n",
    "# Impute nulls for continuous data \n",
    "#all_data.Age = all_data.Age.fillna(training.Age.mean())\n",
    "all_data.Age = all_data.Age.fillna(training.Age.median())\n",
    "#all_data.Fare = all_data.Fare.fillna(training.Fare.mean())\n",
    "all_data.Fare = all_data.Fare.fillna(training.Fare.median())\n",
    "\n",
    "# Drop null 'embarked' rows. Only 2 instances of this in training and 0 in test \n",
    "all_data.dropna(subset=['Embarked'],inplace = True)\n",
    "\n",
    "# Tried log norm of sibsp (not used)\n",
    "all_data['norm_sibsp'] = np.log(all_data.SibSp+1)\n",
    "all_data['norm_sibsp'].hist()\n",
    "\n",
    "# log norm of fare (used)\n",
    "all_data['norm_fare'] = np.log(all_data.Fare+1)\n",
    "all_data['norm_fare'].hist()\n",
    "\n",
    "# Explicitly convert Pclass into str type\n",
    "all_data.Pclass = all_data.Pclass.astype(str)\n",
    "\n",
    "# Created dummy variables from categories (OneHotEncoder)\n",
    "all_dummies = pd.get_dummies(all_data[['Pclass','Sex','Age','SibSp','Parch','norm_fare','Embarked','cabin_adv','cabin_multiple','numeric_ticket','name_title','train_test']])\n",
    "\n",
    "# Peek at first 5 items of the dataset\n",
    "print(all_dummies.head(5))\n",
    "\n",
    "# Split to train test again\n",
    "X_train = all_dummies[all_dummies.train_test == 1].drop(['train_test'], axis =1)\n",
    "X_test = all_dummies[all_dummies.train_test == 0].drop(['train_test'], axis =1)\n",
    "\n",
    "\n",
    "y_train = all_data[all_data.train_test==1].Survived"
   ]
  },
  {
   "cell_type": "code",
   "execution_count": 73,
   "id": "0176081d",
   "metadata": {},
   "outputs": [
    {
     "name": "stdout",
     "output_type": "stream",
     "text": [
      "        Age     SibSp     Parch  norm_fare  cabin_multiple  numeric_ticket  \\\n",
      "0 -0.580261  0.480272 -0.445407  -0.896331               0               0   \n",
      "1  0.662297  0.480272 -0.445407   1.347870               1               0   \n",
      "2 -0.269621 -0.479537 -0.445407  -0.815013               0               0   \n",
      "3  0.429318  0.480272 -0.445407   1.048255               1               1   \n",
      "4  0.429318 -0.479537 -0.445407  -0.800632               0               1   \n",
      "\n",
      "   train_test  Pclass_1  Pclass_2  Pclass_3  ...  name_title_Master  \\\n",
      "0           1     False     False      True  ...              False   \n",
      "1           1      True     False     False  ...              False   \n",
      "2           1     False     False      True  ...              False   \n",
      "3           1      True     False     False  ...              False   \n",
      "4           1     False     False      True  ...              False   \n",
      "\n",
      "   name_title_Miss  name_title_Mlle  name_title_Mme  name_title_Mr  \\\n",
      "0            False            False           False           True   \n",
      "1            False            False           False          False   \n",
      "2             True            False           False          False   \n",
      "3            False            False           False          False   \n",
      "4            False            False           False           True   \n",
      "\n",
      "   name_title_Mrs  name_title_Ms  name_title_Rev  name_title_Sir  \\\n",
      "0           False          False           False           False   \n",
      "1            True          False           False           False   \n",
      "2           False          False           False           False   \n",
      "3            True          False           False           False   \n",
      "4           False          False           False           False   \n",
      "\n",
      "   name_title_the Countess  \n",
      "0                    False  \n",
      "1                    False  \n",
      "2                    False  \n",
      "3                    False  \n",
      "4                    False  \n",
      "\n",
      "[5 rows x 42 columns]\n"
     ]
    }
   ],
   "source": [
    "# Scale data \n",
    "\"\"\"\n",
    "fit() computes the mean and stdev to be used for later scaling, note it's just a computation with no scaling done.\n",
    "\n",
    "transform() uses the previously computed mean and stdev to scale the data \n",
    "(subtract mean from all values and then divide it by stdev).\n",
    "\n",
    "fit_transform() does both at the same time. So you can do it with just 1 line of code.\n",
    "\"\"\"\n",
    "from sklearn.preprocessing import StandardScaler\n",
    "scale = StandardScaler()\n",
    "all_dummies_scaled = all_dummies.copy()\n",
    "all_dummies_scaled[['Age','SibSp','Parch','norm_fare']]= scale.fit_transform(all_dummies_scaled[['Age','SibSp','Parch','norm_fare']])\n",
    "\n",
    "# Peek at first 5 items of the transformed dataset\n",
    "print(all_dummies_scaled.head(5))\n",
    "\n",
    "X_train_scaled = all_dummies_scaled[all_dummies_scaled.train_test == 1].drop(['train_test'], axis =1)\n",
    "X_test_scaled = all_dummies_scaled[all_dummies_scaled.train_test == 0].drop(['train_test'], axis =1)\n",
    "\n",
    "y_train = all_data[all_data.train_test==1].Survived"
   ]
  },
  {
   "attachments": {
    "image.png": {
     "image/png": "[encoded data removed]"
    }
   },
   "cell_type": "markdown",
   "id": "fb76c114",
   "metadata": {},
   "source": [
    "## Model Building (Baseline Validation Performance)\n",
    "\n",
    "Let's see how various models perform with default parameters. Let's use 5-fold cross validation to get a baseline. Just because a model has a high basline doesn't mean that it will actually do better on the eventual test set.\n",
    "\n",
    "![image.png](attachment:image.png)"
   ]
  },
  {
   "cell_type": "code",
   "execution_count": 104,
   "id": "f63b9a19",
   "metadata": {},
   "outputs": [],
   "source": [
    "from sklearn.model_selection import cross_val_score\n",
    "from sklearn.naive_bayes import GaussianNB\n",
    "from sklearn.linear_model import LogisticRegression\n",
    "from sklearn import tree\n",
    "from sklearn.neighbors import KNeighborsClassifier\n",
    "from sklearn.ensemble import RandomForestClassifier\n",
    "from sklearn.svm import SVC"
   ]
  },
  {
   "cell_type": "code",
   "execution_count": 105,
   "id": "ccb878ec",
   "metadata": {},
   "outputs": [
    {
     "name": "stdout",
     "output_type": "stream",
     "text": [
      "[0.66853933 0.70224719 0.75842697 0.74719101 0.73446328]\n",
      "0.7221735542436362\n"
     ]
    }
   ],
   "source": [
    "gnb = GaussianNB()\n",
    "cv = cross_val_score(gnb,X_train_scaled,y_train,cv=5)\n",
    "print(cv)\n",
    "print(cv.mean())"
   ]
  },
  {
   "cell_type": "code",
   "execution_count": 106,
   "id": "beec2b59",
   "metadata": {},
   "outputs": [
    {
     "name": "stdout",
     "output_type": "stream",
     "text": [
      "[0.8258427  0.80898876 0.80337079 0.82022472 0.85310734]\n",
      "0.8223068621849807\n"
     ]
    }
   ],
   "source": [
    "lr = LogisticRegression(max_iter = 2000)\n",
    "cv = cross_val_score(lr,X_train_scaled,y_train,cv=5)\n",
    "print(cv)\n",
    "print(cv.mean())"
   ]
  },
  {
   "cell_type": "code",
   "execution_count": 107,
   "id": "c1a45582",
   "metadata": {},
   "outputs": [
    {
     "name": "stdout",
     "output_type": "stream",
     "text": [
      "[0.75842697 0.74719101 0.8258427  0.74719101 0.8079096 ]\n",
      "0.7773122579826065\n"
     ]
    }
   ],
   "source": [
    "dt = tree.DecisionTreeClassifier(random_state = 1)\n",
    "cv = cross_val_score(dt,X_train_scaled,y_train,cv=5)\n",
    "print(cv)\n",
    "print(cv.mean())"
   ]
  },
  {
   "cell_type": "code",
   "execution_count": 108,
   "id": "4c27735e",
   "metadata": {},
   "outputs": [
    {
     "name": "stdout",
     "output_type": "stream",
     "text": [
      "[0.79775281 0.79213483 0.83146067 0.79775281 0.85310734]\n",
      "0.8144416936456548\n"
     ]
    }
   ],
   "source": [
    "knn = KNeighborsClassifier()\n",
    "cv = cross_val_score(knn,X_train_scaled,y_train,cv=5)\n",
    "print(cv)\n",
    "print(cv.mean())"
   ]
  },
  {
   "cell_type": "code",
   "execution_count": 109,
   "id": "8fc0d8f8",
   "metadata": {},
   "outputs": [
    {
     "name": "stdout",
     "output_type": "stream",
     "text": [
      "[0.80337079 0.79213483 0.84831461 0.73595506 0.82485876]\n",
      "0.8009268075922046\n"
     ]
    }
   ],
   "source": [
    "rf = RandomForestClassifier(random_state = 1)\n",
    "cv = cross_val_score(rf,X_train_scaled,y_train,cv=5)\n",
    "print(cv)\n",
    "print(cv.mean())"
   ]
  },
  {
   "cell_type": "code",
   "execution_count": 110,
   "id": "92d8bc9f",
   "metadata": {},
   "outputs": [
    {
     "name": "stdout",
     "output_type": "stream",
     "text": [
      "[0.85393258 0.82022472 0.8258427  0.80337079 0.86440678]\n",
      "0.8335555132355742\n"
     ]
    }
   ],
   "source": [
    "svc = SVC(probability = True)\n",
    "cv = cross_val_score(svc,X_train_scaled,y_train,cv=5)\n",
    "print(cv)\n",
    "print(cv.mean())"
   ]
  },
  {
   "cell_type": "code",
   "execution_count": 111,
   "id": "5643a733",
   "metadata": {},
   "outputs": [
    {
     "name": "stdout",
     "output_type": "stream",
     "text": [
      "[0.81460674 0.80898876 0.86516854 0.79775281 0.81920904]\n",
      "0.8211451786961215\n"
     ]
    }
   ],
   "source": [
    "from xgboost import XGBClassifier\n",
    "xgb = XGBClassifier(random_state =1)\n",
    "cv = cross_val_score(xgb,X_train_scaled,y_train,cv=5)\n",
    "print(cv)\n",
    "print(cv.mean())"
   ]
  },
  {
   "cell_type": "code",
   "execution_count": 112,
   "id": "a66a5deb",
   "metadata": {},
   "outputs": [
    {
     "name": "stdout",
     "output_type": "stream",
     "text": [
      "[0.82022472 0.81460674 0.82022472 0.79775281 0.84745763]\n",
      "0.8200533231765377\n"
     ]
    }
   ],
   "source": [
    "\"\"\"\n",
    "A Voting Classifier takes all of the inputs and averages the results. \n",
    "For a \"hard\" voting classifier each classifier gets 1 vote \"yes\" or \"no\" and the result is just a popular vote. \n",
    "For this, you generally want odd numbers. \n",
    "A \"soft\" classifier averages the confidence of each of the models. \n",
    "If the average confidence is > 50% that it is a 1 it will be counted as such.\n",
    "\"\"\"\n",
    "from sklearn.ensemble import VotingClassifier\n",
    "voting_clf = VotingClassifier(estimators = [('lr',lr),('knn',knn),('rf',rf),('gnb',gnb),('svc',svc),('xgb',xgb)], voting = 'soft') \n",
    "cv = cross_val_score(voting_clf,X_train_scaled,y_train,cv=5)\n",
    "print(cv)\n",
    "print(cv.mean())"
   ]
  },
  {
   "cell_type": "code",
   "execution_count": 115,
   "id": "d1c35edb",
   "metadata": {},
   "outputs": [],
   "source": [
    "voting_clf.fit(X_train_scaled,y_train) # train\n",
    "y_hat_base_vc = voting_clf.predict(X_test_scaled).astype(int) # test\n",
    "basic_submission = {'PassengerId': test.PassengerId, 'Survived': y_hat_base_vc}\n",
    "base_submission = pd.DataFrame(data=basic_submission)\n",
    "base_submission.to_csv('submission.csv', index=False)"
   ]
  }
 ],
 "metadata": {
  "kernelspec": {
   "display_name": "Python 3 (ipykernel)",
   "language": "python",
   "name": "python3"
  },
  "language_info": {
   "codemirror_mode": {
    "name": "ipython",
    "version": 3
   },
   "file_extension": ".py",
   "mimetype": "text/x-python",
   "name": "python",
   "nbconvert_exporter": "python",
   "pygments_lexer": "ipython3",
   "version": "3.11.5"
  }
 },
 "nbformat": 4,
 "nbformat_minor": 5
}
